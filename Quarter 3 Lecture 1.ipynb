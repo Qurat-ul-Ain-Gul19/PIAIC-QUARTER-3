{
 "cells": [
  {
   "cell_type": "code",
   "execution_count": null,
   "metadata": {},
   "outputs": [],
   "source": [
    "CICD\n",
    "continous integration , continous development\n",
    "\n",
    "Docker:virtualization\n",
    "\n",
    "in virtual machine dedicated ram dedicated harddisk is used everytime\n",
    "but in docker memory is realised as soon as task has been done\n",
    "\n",
    "benefit of docker:\n",
    "    dependencies issues solved"
   ]
  },
  {
   "cell_type": "code",
   "execution_count": null,
   "metadata": {},
   "outputs": [],
   "source": [
    "bucky roberts"
   ]
  },
  {
   "cell_type": "code",
   "execution_count": null,
   "metadata": {},
   "outputs": [],
   "source": [
    "CHAPTER 5"
   ]
  },
  {
   "cell_type": "code",
   "execution_count": null,
   "metadata": {},
   "outputs": [],
   "source": [
    "DEEP LEARNING IN REAL WORLD "
   ]
  },
  {
   "cell_type": "code",
   "execution_count": null,
   "metadata": {},
   "outputs": [],
   "source": [
    "ANN learns global pattern\n",
    "CNN learns loacl patterns in imagz"
   ]
  },
  {
   "cell_type": "code",
   "execution_count": null,
   "metadata": {},
   "outputs": [],
   "source": [
    "to make long term memory short LSTM removes useless details\n",
    "\n",
    "\n",
    "rtx 2620\n",
    "\n",
    "\n",
    "Any Nvidia gpu with CUDA cores will work\n"
   ]
  },
  {
   "cell_type": "code",
   "execution_count": null,
   "metadata": {},
   "outputs": [],
   "source": [
    "-Amazon EC2 SageMaker\n",
    "-Aws educate program is available for Students.(.edu.com email must)\n"
   ]
  },
  {
   "cell_type": "code",
   "execution_count": null,
   "metadata": {},
   "outputs": [],
   "source": [
    " 3070 or 3060ti or ( 1660 super/1070)\n",
    "\n",
    "    \n",
    "    for laptops rtx 2070 is the best option , 8GB vram\n"
   ]
  },
  {
   "cell_type": "code",
   "execution_count": null,
   "metadata": {},
   "outputs": [],
   "source": [
    "img classification wd loicalization:-\n",
    "    mention where the dedected img is lying"
   ]
  },
  {
   "cell_type": "code",
   "execution_count": null,
   "metadata": {},
   "outputs": [],
   "source": [
    "IMGZ CLASSIFICATION APPLICATIONS\n",
    "\n",
    "https://machinelearningmastery.com/applications-of-deep-learning-for-computer-vision/"
   ]
  },
  {
   "cell_type": "code",
   "execution_count": null,
   "metadata": {},
   "outputs": [],
   "source": [
    "Through CNN we can also visualize what is going on in each layer"
   ]
  }
 ],
 "metadata": {
  "kernelspec": {
   "display_name": "Python 3",
   "language": "python",
   "name": "python3"
  },
  "language_info": {
   "codemirror_mode": {
    "name": "ipython",
    "version": 3
   },
   "file_extension": ".py",
   "mimetype": "text/x-python",
   "name": "python",
   "nbconvert_exporter": "python",
   "pygments_lexer": "ipython3",
   "version": "3.7.3"
  }
 },
 "nbformat": 4,
 "nbformat_minor": 4
}
