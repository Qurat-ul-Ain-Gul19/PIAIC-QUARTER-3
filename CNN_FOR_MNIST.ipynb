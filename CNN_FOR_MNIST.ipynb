{
  "nbformat": 4,
  "nbformat_minor": 0,
  "metadata": {
    "colab": {
      "name": "CNN FOR MNIST.ipynb",
      "provenance": [],
      "collapsed_sections": []
    },
    "kernelspec": {
      "name": "python3",
      "display_name": "Python 3"
    }
  },
  "cells": [
    {
      "cell_type": "code",
      "metadata": {
        "colab": {
          "base_uri": "https://localhost:8080/",
          "height": 335
        },
        "id": "Ppf4BdZa6VcH",
        "outputId": "4216a066-9cc3-4a9a-e744-ec30cdfa82a4"
      },
      "source": [
        "\r\n",
        "# example of loading the mnist dataset\r\n",
        "from keras.datasets import mnist\r\n",
        "from matplotlib import pyplot\r\n",
        "# load dataset\r\n",
        "(trainX, trainy), (testX, testy) = mnist.load_data()\r\n",
        "# summarize loaded dataset\r\n",
        "print('Train: X=%s, y=%s' % (trainX.shape, trainy.shape))\r\n",
        "print('Test: X=%s, y=%s' % (testX.shape, testy.shape))\r\n",
        "# plot first few images\r\n",
        "for i in range(9):\r\n",
        "\t# define subplot\r\n",
        "\tpyplot.subplot(330 + 1 + i)\r\n",
        "\t# plot raw pixel data\r\n",
        "\tpyplot.imshow(trainX[i], cmap=pyplot.get_cmap('gray'))\r\n",
        "# show the figure\r\n",
        "pyplot.show()"
      ],
      "execution_count": null,
      "outputs": [
        {
          "output_type": "stream",
          "text": [
            "Downloading data from https://storage.googleapis.com/tensorflow/tf-keras-datasets/mnist.npz\n",
            "11493376/11490434 [==============================] - 0s 0us/step\n",
            "Train: X=(60000, 28, 28), y=(60000,)\n",
            "Test: X=(10000, 28, 28), y=(10000,)\n"
          ],
          "name": "stdout"
        },
        {
          "output_type": "display_data",
          "data": {
            "image/png": "[encoded data removed]",
            "text/plain": [
              "<Figure size 432x288 with 9 Axes>"
            ]
          },
          "metadata": {
            "tags": [],
            "needs_background": "light"
          }
        }
      ]
    },
    {
      "cell_type": "code",
      "metadata": {
        "id": "7YhWXbbp6Z_N"
      },
      "source": [
        ""
      ],
      "execution_count": null,
      "outputs": []
    },
    {
      "cell_type": "code",
      "metadata": {
        "id": "ZSkDgvxW6aCB"
      },
      "source": [
        ""
      ],
      "execution_count": null,
      "outputs": []
    },
    {
      "cell_type": "code",
      "metadata": {
        "id": "tr0jgREB6aFr"
      },
      "source": [
        ""
      ],
      "execution_count": null,
      "outputs": []
    },
    {
      "cell_type": "code",
      "metadata": {
        "id": "APNF5ZlK8s7N"
      },
      "source": [
        ""
      ],
      "execution_count": null,
      "outputs": []
    },
    {
      "cell_type": "code",
      "metadata": {
        "id": "bPOUp4HH9L2Q"
      },
      "source": [
        "from numpy import mean\r\n",
        "from numpy import std\r\n",
        "from matplotlib import pyplot\r\n",
        "from sklearn.model_selection import KFold\r\n",
        "from keras.datasets import mnist\r\n",
        "from keras.utils import to_categorical\r\n",
        "from keras.models import Sequential\r\n",
        "from keras.layers import Conv2D\r\n",
        "from keras.layers import MaxPooling2D\r\n",
        "from keras.layers import Dense\r\n",
        "from keras.layers import Flatten\r\n",
        "from keras.optimizers import SGD"
      ],
      "execution_count": null,
      "outputs": []
    },
    {
      "cell_type": "code",
      "metadata": {
        "id": "WZKKVb8x9L6V"
      },
      "source": [
        "# load train and test dataset\r\n",
        "def load_dataset():\r\n",
        "\t# load dataset\r\n",
        "\t(trainX, trainY), (testX, testY) = mnist.load_data()\r\n",
        "\t# reshape dataset to have a single channel\r\n",
        "\ttrainX = trainX.reshape((trainX.shape[0], 28, 28, 1))\r\n",
        "\ttestX = testX.reshape((testX.shape[0], 28, 28, 1))\r\n",
        "\t# one hot encode target values\r\n",
        "\ttrainY = to_categorical(trainY)\r\n",
        "\ttestY = to_categorical(testY)\r\n",
        "\treturn trainX, trainY, testX, testY"
      ],
      "execution_count": null,
      "outputs": []
    },
    {
      "cell_type": "code",
      "metadata": {
        "id": "rxi5ab899L-G"
      },
      "source": [
        "# scale pixels\r\n",
        "def prep_pixels(train, test):\r\n",
        "\t# convert from integers to floats\r\n",
        "\ttrain_norm = train.astype('float32')\r\n",
        "\ttest_norm = test.astype('float32')\r\n",
        "\t# normalize to range 0-1\r\n",
        "\ttrain_norm = train_norm / 255.0\r\n",
        "\ttest_norm = test_norm / 255.0\r\n",
        "\t# return normalized images\r\n",
        "\treturn train_norm, test_norm"
      ],
      "execution_count": null,
      "outputs": []
    },
    {
      "cell_type": "code",
      "metadata": {
        "id": "MPnUA-B59MA-"
      },
      "source": [
        "# define cnn model\r\n",
        "def define_model():\r\n",
        "\tmodel = Sequential()\r\n",
        "\tmodel.add(Conv2D(32, (3, 3), activation='relu', kernel_initializer='he_uniform', input_shape=(28, 28, 1)))\r\n",
        "\tmodel.add(MaxPooling2D((2, 2)))\r\n",
        "\tmodel.add(Flatten())\r\n",
        "\tmodel.add(Dense(100, activation='relu', kernel_initializer='he_uniform'))\r\n",
        "\tmodel.add(Dense(10, activation='softmax'))\r\n",
        "\t# compile model\r\n",
        "\topt = SGD(lr=0.01, momentum=0.9)\r\n",
        "\tmodel.compile(optimizer=opt, loss='categorical_crossentropy', metrics=['accuracy'])\r\n",
        "\treturn model"
      ],
      "execution_count": null,
      "outputs": []
    },
    {
      "cell_type": "code",
      "metadata": {
        "id": "5FbcfyPZ9MC4"
      },
      "source": [
        "# evaluate a model using k-fold cross-validation\r\n",
        "def evaluate_model(dataX, dataY, n_folds=5):\r\n",
        "\tscores, histories = list(), list()\r\n",
        "\t# prepare cross validation\r\n",
        "\tkfold = KFold(n_folds, shuffle=True, random_state=1)\r\n",
        "\t# enumerate splits\r\n",
        "\tfor train_ix, test_ix in kfold.split(dataX):\r\n",
        "\t\t# define model\r\n",
        "\t\tmodel = define_model()\r\n",
        "\t\t# select rows for train and test\r\n",
        "\t\ttrainX, trainY, testX, testY = dataX[train_ix], dataY[train_ix], dataX[test_ix], dataY[test_ix]\r\n",
        "\t\t# fit model\r\n",
        "\t\thistory = model.fit(trainX, trainY, epochs=10, batch_size=32, validation_data=(testX, testY), verbose=0)\r\n",
        "\t\t# evaluate model\r\n",
        "\t\t_, acc = model.evaluate(testX, testY, verbose=0)\r\n",
        "\t\tprint('> %.3f' % (acc * 100.0))\r\n",
        "\t\t# stores scores\r\n",
        "\t\tscores.append(acc)\r\n",
        "\t\thistories.append(history)\r\n",
        "\treturn scores, histories"
      ],
      "execution_count": null,
      "outputs": []
    },
    {
      "cell_type": "code",
      "metadata": {
        "id": "U8TtaLtw9MFf"
      },
      "source": [
        "# plot diagnostic learning curves\r\n",
        "def summarize_diagnostics(histories):\r\n",
        "\tfor i in range(len(histories)):\r\n",
        "\t\t# plot loss\r\n",
        "\t\tpyplot.subplot(2, 1, 1)\r\n",
        "\t\tpyplot.title('Cross Entropy Loss')\r\n",
        "\t\tpyplot.plot(histories[i].history['loss'], color='blue', label='train')\r\n",
        "\t\tpyplot.plot(histories[i].history['val_loss'], color='orange', label='test')\r\n",
        "\t\t# plot accuracy\r\n",
        "\t\tpyplot.subplot(2, 1, 2)\r\n",
        "\t\tpyplot.title('Classification Accuracy')\r\n",
        "\t\tpyplot.plot(histories[i].history['accuracy'], color='blue', label='train')\r\n",
        "\t\tpyplot.plot(histories[i].history['val_accuracy'], color='orange', label='test')\r\n",
        "\tpyplot.show()\r\n"
      ],
      "execution_count": null,
      "outputs": []
    },
    {
      "cell_type": "code",
      "metadata": {
        "id": "CoQJUjZC9MIc"
      },
      "source": [
        "# summarize model performance\r\n",
        "def summarize_performance(scores):\r\n",
        "\t# print summary\r\n",
        "\tprint('Accuracy: mean=%.3f std=%.3f, n=%d' % (mean(scores)*100, std(scores)*100, len(scores)))\r\n",
        "\t# box and whisker plots of results\r\n",
        "\tpyplot.boxplot(scores)\r\n",
        "\tpyplot.show()"
      ],
      "execution_count": null,
      "outputs": []
    },
    {
      "cell_type": "code",
      "metadata": {
        "id": "5ewgC7478s90"
      },
      "source": [
        "# run the test harness for evaluating a model\r\n",
        "def run_test_harness():\r\n",
        "\t# load dataset\r\n",
        "\ttrainX, trainY, testX, testY = load_dataset()\r\n",
        "\t# prepare pixel data\r\n",
        "\ttrainX, testX = prep_pixels(trainX, testX)\r\n",
        "\t# evaluate model\r\n",
        "\tscores, histories = evaluate_model(trainX, trainY)\r\n",
        "\t# learning curves\r\n",
        "\tsummarize_diagnostics(histories)\r\n",
        "\t# summarize estimated performance\r\n",
        "\tsummarize_performance(scores)"
      ],
      "execution_count": null,
      "outputs": []
    },
    {
      "cell_type": "code",
      "metadata": {
        "colab": {
          "base_uri": "https://localhost:8080/",
          "height": 700
        },
        "id": "zSFRNe0P8tAF",
        "outputId": "a63149bc-5d8e-4a77-93e7-2fbfeb46af5b"
      },
      "source": [
        "# entry point, run the test harness\r\n",
        "run_test_harness()"
      ],
      "execution_count": null,
      "outputs": [
        {
          "output_type": "stream",
          "text": [
            "> 98.642\n",
            "> 98.717\n",
            "> 98.925\n",
            "> 98.850\n"
          ],
          "name": "stdout"
        },
        {
          "output_type": "stream",
          "text": [
            "/usr/local/lib/python3.6/dist-packages/ipykernel_launcher.py:5: MatplotlibDeprecationWarning: Adding an axes using the same arguments as a previous axes currently reuses the earlier instance.  In a future version, a new instance will always be created and returned.  Meanwhile, this warning can be suppressed, and the future behavior ensured, by passing a unique label to each axes instance.\n",
            "  \"\"\"\n",
            "/usr/local/lib/python3.6/dist-packages/ipykernel_launcher.py:10: MatplotlibDeprecationWarning: Adding an axes using the same arguments as a previous axes currently reuses the earlier instance.  In a future version, a new instance will always be created and returned.  Meanwhile, this warning can be suppressed, and the future behavior ensured, by passing a unique label to each axes instance.\n",
            "  # Remove the CWD from sys.path while we load stuff.\n"
          ],
          "name": "stderr"
        },
        {
          "output_type": "display_data",
          "data": {
            "image/png": "[encoded data removed]",
            "text/plain": [
              "<Figure size 432x288 with 2 Axes>"
            ]
          },
          "metadata": {
            "tags": [],
            "needs_background": "light"
          }
        },
        {
          "output_type": "stream",
          "text": [
            "Accuracy: mean=98.755 std=0.114, n=5\n"
          ],
          "name": "stdout"
        },
        {
          "output_type": "display_data",
          "data": {
            "image/png": "[encoded data removed]",
            "text/plain": [
              "<Figure size 432x288 with 1 Axes>"
            ]
          },
          "metadata": {
            "tags": [],
            "needs_background": "light"
          }
        }
      ]
    },
    {
      "cell_type": "code",
      "metadata": {
        "id": "-Kl2WXyS8tDv"
      },
      "source": [
        ""
      ],
      "execution_count": null,
      "outputs": []
    },
    {
      "cell_type": "code",
      "metadata": {
        "id": "Va0HpgrsNHdz"
      },
      "source": [
        ""
      ],
      "execution_count": null,
      "outputs": []
    },
    {
      "cell_type": "code",
      "metadata": {
        "id": "6Vf7AVeUNHgO"
      },
      "source": [
        ""
      ],
      "execution_count": null,
      "outputs": []
    },
    {
      "cell_type": "code",
      "metadata": {
        "id": "VYVLPCmfNHi0"
      },
      "source": [
        ""
      ],
      "execution_count": null,
      "outputs": []
    },
    {
      "cell_type": "code",
      "metadata": {
        "id": "u0GSdRO8NHlY"
      },
      "source": [
        ""
      ],
      "execution_count": null,
      "outputs": []
    },
    {
      "cell_type": "code",
      "metadata": {
        "id": "ILtby_B4NHn-"
      },
      "source": [
        "2ND APPPROACH"
      ],
      "execution_count": null,
      "outputs": []
    },
    {
      "cell_type": "code",
      "metadata": {
        "id": "OdeRiznYYtpQ"
      },
      "source": [
        "from __future__ import print_function\r\n",
        "import keras\r\n",
        "from keras.datasets import mnist\r\n",
        "from keras.models import Sequential\r\n",
        "from keras.layers import Dense, Dropout, Flatten\r\n",
        "from keras.layers import Conv2D, MaxPooling2D\r\n",
        "from keras import backend as K"
      ],
      "execution_count": 17,
      "outputs": []
    },
    {
      "cell_type": "code",
      "metadata": {
        "id": "cX8AVzF9YtsI"
      },
      "source": [
        "batch_size = 128\r\n",
        "num_classes = 10\r\n",
        "epochs = 12\r\n",
        "# input image dimensions\r\n",
        "img_rows, img_cols = 28, 28\r\n",
        "# the data, split between train and test sets\r\n",
        "(x_train, y_train), (x_test, y_test) = mnist.load_data()"
      ],
      "execution_count": 18,
      "outputs": []
    },
    {
      "cell_type": "code",
      "metadata": {
        "id": "GDaQ7mCWZ1GJ"
      },
      "source": [
        "if K.image_data_format() == 'channels_first':\r\n",
        "    x_train = x_train.reshape(x_train.shape[0], 1, img_rows, img_cols)\r\n",
        "    x_test = x_test.reshape(x_test.shape[0], 1, img_rows, img_cols)\r\n",
        "    input_shape = (1, img_rows, img_cols)\r\n",
        "else:\r\n",
        "    x_train = x_train.reshape(x_train.shape[0], img_rows, img_cols, 1)\r\n",
        "    x_test = x_test.reshape(x_test.shape[0], img_rows, img_cols, 1)\r\n",
        "    input_shape = (img_rows, img_cols, 1)"
      ],
      "execution_count": 19,
      "outputs": []
    },
    {
      "cell_type": "code",
      "metadata": {
        "colab": {
          "base_uri": "https://localhost:8080/"
        },
        "id": "IpJ73MfUYtvH",
        "outputId": "7adc3b6b-2573-4d27-9e79-5756ece1f745"
      },
      "source": [
        "\r\n",
        "x_train = x_train.astype('float32')\r\n",
        "x_test = x_test.astype('float32')\r\n",
        "x_train /= 255\r\n",
        "x_test /= 255\r\n",
        "print('x_train shape:', x_train.shape)\r\n",
        "print(x_train.shape[0], 'train samples')\r\n",
        "print(x_test.shape[0], 'test samples')"
      ],
      "execution_count": 20,
      "outputs": [
        {
          "output_type": "stream",
          "text": [
            "x_train shape: (60000, 28, 28, 1)\n",
            "60000 train samples\n",
            "10000 test samples\n"
          ],
          "name": "stdout"
        }
      ]
    },
    {
      "cell_type": "code",
      "metadata": {
        "id": "GRJUFXAEYtye"
      },
      "source": [
        "# convert class vectors to binary class matrices\r\n",
        "y_train = keras.utils.to_categorical(y_train, num_classes)\r\n",
        "y_test = keras.utils.to_categorical(y_test, num_classes)"
      ],
      "execution_count": 21,
      "outputs": []
    },
    {
      "cell_type": "code",
      "metadata": {
        "id": "WObXJa_mZGDf"
      },
      "source": [
        "model = Sequential()\r\n",
        "model.add(Conv2D(32, kernel_size=(3, 3),\r\n",
        "                 activation='relu',\r\n",
        "                 input_shape=input_shape))\r\n",
        "model.add(Conv2D(64, (3, 3), activation='relu'))\r\n",
        "model.add(MaxPooling2D(pool_size=(2, 2)))\r\n",
        "model.add(Dropout(0.25))\r\n",
        "model.add(Flatten())\r\n",
        "model.add(Dense(128, activation='relu'))\r\n",
        "model.add(Dropout(0.5))\r\n",
        "model.add(Dense(num_classes, activation='softmax'))\r\n",
        "model.compile(loss=keras.losses.categorical_crossentropy,\r\n",
        "              optimizer=keras.optimizers.Adadelta(),\r\n",
        "              metrics=['accuracy'])"
      ],
      "execution_count": 22,
      "outputs": []
    },
    {
      "cell_type": "code",
      "metadata": {
        "colab": {
          "base_uri": "https://localhost:8080/"
        },
        "id": "ZSow8jb3ZGGy",
        "outputId": "2ebf30f7-8783-4e27-ba47-51d7651e3872"
      },
      "source": [
        "model.fit(x_train, y_train,\r\n",
        "          batch_size=batch_size,\r\n",
        "          epochs=epochs,\r\n",
        "          verbose=1,\r\n",
        "          validation_data=(x_test, y_test))\r\n",
        "score = model.evaluate(x_test, y_test, verbose=0)"
      ],
      "execution_count": 23,
      "outputs": [
        {
          "output_type": "stream",
          "text": [
            "Epoch 1/12\n",
            "469/469 [==============================] - 140s 297ms/step - loss: 2.2959 - accuracy: 0.1173 - val_loss: 2.2417 - val_accuracy: 0.3776\n",
            "Epoch 2/12\n",
            "469/469 [==============================] - 140s 298ms/step - loss: 2.2351 - accuracy: 0.2408 - val_loss: 2.1626 - val_accuracy: 0.5455\n",
            "Epoch 3/12\n",
            "469/469 [==============================] - 138s 295ms/step - loss: 2.1598 - accuracy: 0.3587 - val_loss: 2.0565 - val_accuracy: 0.6388\n",
            "Epoch 4/12\n",
            "469/469 [==============================] - 138s 295ms/step - loss: 2.0551 - accuracy: 0.4464 - val_loss: 1.9176 - val_accuracy: 0.6986\n",
            "Epoch 5/12\n",
            "469/469 [==============================] - 139s 297ms/step - loss: 1.9243 - accuracy: 0.5081 - val_loss: 1.7452 - val_accuracy: 0.7222\n",
            "Epoch 6/12\n",
            "469/469 [==============================] - 140s 298ms/step - loss: 1.7706 - accuracy: 0.5494 - val_loss: 1.5484 - val_accuracy: 0.7438\n",
            "Epoch 7/12\n",
            "469/469 [==============================] - 139s 296ms/step - loss: 1.5938 - accuracy: 0.5912 - val_loss: 1.3478 - val_accuracy: 0.7632\n",
            "Epoch 8/12\n",
            "469/469 [==============================] - 139s 295ms/step - loss: 1.4364 - accuracy: 0.6185 - val_loss: 1.1655 - val_accuracy: 0.7852\n",
            "Epoch 9/12\n",
            "469/469 [==============================] - 139s 296ms/step - loss: 1.2959 - accuracy: 0.6432 - val_loss: 1.0133 - val_accuracy: 0.8030\n",
            "Epoch 10/12\n",
            "469/469 [==============================] - 138s 295ms/step - loss: 1.1676 - accuracy: 0.6706 - val_loss: 0.8946 - val_accuracy: 0.8186\n",
            "Epoch 11/12\n",
            "469/469 [==============================] - 139s 297ms/step - loss: 1.0797 - accuracy: 0.6846 - val_loss: 0.8036 - val_accuracy: 0.8275\n",
            "Epoch 12/12\n",
            "469/469 [==============================] - 139s 297ms/step - loss: 1.0053 - accuracy: 0.7006 - val_loss: 0.7329 - val_accuracy: 0.8345\n"
          ],
          "name": "stdout"
        }
      ]
    },
    {
      "cell_type": "code",
      "metadata": {
        "colab": {
          "base_uri": "https://localhost:8080/"
        },
        "id": "_eW1iWJZjXyA",
        "outputId": "15e13e1f-6256-4e91-df17-08f404a4243d"
      },
      "source": [
        "print(\"The model has successfully trained\")\r\n",
        "\r\n",
        "model.save('mnist.h5')\r\n",
        "print(\"Saving the model as mnist.h5\")"
      ],
      "execution_count": 24,
      "outputs": [
        {
          "output_type": "stream",
          "text": [
            "The model has successfully trained\n",
            "Saving the model as mnist.h5\n"
          ],
          "name": "stdout"
        }
      ]
    },
    {
      "cell_type": "code",
      "metadata": {
        "id": "N9cztpgFNHtB"
      },
      "source": [
        "GUI"
      ],
      "execution_count": null,
      "outputs": []
    },
    {
      "cell_type": "code",
      "metadata": {
        "colab": {
          "base_uri": "https://localhost:8080/"
        },
        "id": "tMmrhc7wryMx",
        "outputId": "1411328d-ab63-44a0-8333-8464a1d49125"
      },
      "source": [
        "!pip install pypiwin32"
      ],
      "execution_count": 30,
      "outputs": [
        {
          "output_type": "stream",
          "text": [
            "Collecting pypiwin32\n",
            "  Using cached https://files.pythonhosted.org/packages/d0/1b/2f292bbd742e369a100c91faa0483172cd91a1a422a6692055ac920946c5/pypiwin32-223-py3-none-any.whl\n",
            "\u001b[31mERROR: Could not find a version that satisfies the requirement pywin32>=223 (from pypiwin32) (from versions: none)\u001b[0m\n",
            "\u001b[31mERROR: No matching distribution found for pywin32>=223 (from pypiwin32)\u001b[0m\n"
          ],
          "name": "stdout"
        }
      ]
    },
    {
      "cell_type": "code",
      "metadata": {
        "colab": {
          "base_uri": "https://localhost:8080/"
        },
        "id": "gRsv4NLlsL6m",
        "outputId": "3df8c4bf-a7e4-498e-bdc2-295aee0e165b"
      },
      "source": [
        "!pip install web3"
      ],
      "execution_count": 31,
      "outputs": [
        {
          "output_type": "stream",
          "text": [
            "Collecting web3\n",
            "\u001b[?25l  Downloading https://files.pythonhosted.org/packages/81/d3/ea7033e4869114d19e287965f01eadcc0827408992649c77998b7437adae/web3-5.16.0-py3-none-any.whl (469kB)\n",
            "\u001b[K     |████████████████████████████████| 471kB 4.0MB/s \n",
            "\u001b[?25hCollecting jsonschema<4.0.0,>=3.2.0\n",
            "\u001b[?25l  Downloading https://files.pythonhosted.org/packages/c5/8f/51e89ce52a085483359217bc72cdbf6e75ee595d5b1d4b5ade40c7e018b8/jsonschema-3.2.0-py2.py3-none-any.whl (56kB)\n",
            "\u001b[K     |████████████████████████████████| 61kB 8.7MB/s \n",
            "\u001b[?25hRequirement already satisfied: protobuf<4,>=3.10.0 in /usr/local/lib/python3.6/dist-packages (from web3) (3.12.4)\n",
            "Collecting eth-typing<3.0.0,>=2.0.0\n",
            "  Downloading https://files.pythonhosted.org/packages/cd/2d/a659d04048f99ce2cde74ece197a7a838ce3050c13d7ba2cb1c0dedd9227/eth_typing-2.2.2-py3-none-any.whl\n",
            "Collecting eth-abi<3.0.0,>=2.0.0b6\n",
            "  Downloading https://files.pythonhosted.org/packages/c9/f4/5d8e501d6535e9e9aab6060bdf6890f266af978e182dc569bf31fb1753b6/eth_abi-2.1.1-py3-none-any.whl\n",
            "Requirement already satisfied: typing-extensions<4,>=3.7.4.1; python_version < \"3.8\" in /usr/local/lib/python3.6/dist-packages (from web3) (3.7.4.3)\n",
            "Collecting websockets<9.0.0,>=8.1.0\n",
            "\u001b[?25l  Downloading https://files.pythonhosted.org/packages/bb/d9/856af84843912e2853b1b6e898ac8b802989fcf9ecf8e8445a1da263bf3b/websockets-8.1-cp36-cp36m-manylinux2010_x86_64.whl (78kB)\n",
            "\u001b[K     |████████████████████████████████| 81kB 8.7MB/s \n",
            "\u001b[?25hCollecting hexbytes<1.0.0,>=0.1.0\n",
            "  Downloading https://files.pythonhosted.org/packages/ad/29/78d60cb6c308b0f0f672b09d8e4c651e36f497102a8792797253d099bf01/hexbytes-0.2.1-py3-none-any.whl\n",
            "Collecting eth-account<0.6.0,>=0.5.3\n",
            "\u001b[?25l  Downloading https://files.pythonhosted.org/packages/fe/9d/0fcda867a0d08273eb7eb1f68233540ad5fd30eb14c1724406bd84ce7f14/eth_account-0.5.4-py3-none-any.whl (94kB)\n",
            "\u001b[K     |████████████████████████████████| 102kB 12.3MB/s \n",
            "\u001b[?25hCollecting eth-utils<2.0.0,>=1.9.5\n",
            "  Downloading https://files.pythonhosted.org/packages/99/71/78170b0fdeb7ee6aa24c2206ac2d0d4f097ff0d9ad4ab4f748e04ea73187/eth_utils-1.10.0-py3-none-any.whl\n",
            "Collecting ipfshttpclient==0.7.0a1\n",
            "\u001b[?25l  Downloading https://files.pythonhosted.org/packages/43/85/e77debad71477195cb67f3e6c84b65d23297c50a5960321909fd812b1e87/ipfshttpclient-0.7.0a1-py3-none-any.whl (231kB)\n",
            "\u001b[K     |████████████████████████████████| 235kB 61.2MB/s \n",
            "\u001b[?25hCollecting lru-dict<2.0.0,>=1.1.6\n",
            "  Downloading https://files.pythonhosted.org/packages/68/ea/997af58d4e6da019ad825a412f93081d9df67e9dda11cfb026a3d7cd0b6c/lru-dict-1.1.7.tar.gz\n",
            "Requirement already satisfied: requests<3.0.0,>=2.16.0 in /usr/local/lib/python3.6/dist-packages (from web3) (2.23.0)\n",
            "Collecting eth-hash[pycryptodome]<1.0.0,>=0.2.0\n",
            "  Downloading https://files.pythonhosted.org/packages/0b/83/bb469aac1e60011de141fe46a66ee228d6e313f508894b1ede8e661d12d0/eth_hash-0.3.1-py3-none-any.whl\n",
            "Requirement already satisfied: setuptools in /usr/local/lib/python3.6/dist-packages (from jsonschema<4.0.0,>=3.2.0->web3) (53.0.0)\n",
            "Requirement already satisfied: attrs>=17.4.0 in /usr/local/lib/python3.6/dist-packages (from jsonschema<4.0.0,>=3.2.0->web3) (20.3.0)\n",
            "Requirement already satisfied: six>=1.11.0 in /usr/local/lib/python3.6/dist-packages (from jsonschema<4.0.0,>=3.2.0->web3) (1.15.0)\n",
            "Requirement already satisfied: pyrsistent>=0.14.0 in /usr/local/lib/python3.6/dist-packages (from jsonschema<4.0.0,>=3.2.0->web3) (0.17.3)\n",
            "Requirement already satisfied: importlib-metadata; python_version < \"3.8\" in /usr/local/lib/python3.6/dist-packages (from jsonschema<4.0.0,>=3.2.0->web3) (3.4.0)\n",
            "Collecting parsimonious<0.9.0,>=0.8.0\n",
            "\u001b[?25l  Downloading https://files.pythonhosted.org/packages/02/fc/067a3f89869a41009e1a7cdfb14725f8ddd246f30f63c645e8ef8a1c56f4/parsimonious-0.8.1.tar.gz (45kB)\n",
            "\u001b[K     |████████████████████████████████| 51kB 7.3MB/s \n",
            "\u001b[?25hCollecting bitarray<1.3.0,>=1.2.1\n",
            "\u001b[?25l  Downloading https://files.pythonhosted.org/packages/59/cd/cad4ea90820e58e4b46bc16b273d5928e09c3df467d3b10ad1f5a09c61d3/bitarray-1.2.2.tar.gz (48kB)\n",
            "\u001b[K     |████████████████████████████████| 51kB 6.9MB/s \n",
            "\u001b[?25hCollecting rlp<3,>=1.0.0\n",
            "  Downloading https://files.pythonhosted.org/packages/c2/c6/df00f568091195503708272b3b5a0562b06554c7d2474e0ba7ee43f539f9/rlp-2.0.1-py2.py3-none-any.whl\n",
            "Collecting eth-keys!=0.3.2,<0.4.0,>=0.2.1\n",
            "  Downloading https://files.pythonhosted.org/packages/a0/42/ee0b1a9e765f234a7689a3cfd99a8475a807f699eefec70e8e5d9d348eda/eth_keys-0.3.3-py3-none-any.whl\n",
            "Collecting eth-keyfile<0.6.0,>=0.5.0\n",
            "  Downloading https://files.pythonhosted.org/packages/eb/a5/3615d100b62fbf20fe5d5c0d1d4d7326eac861d260b0cd2a36af2bf8ccb1/eth_keyfile-0.5.1-py3-none-any.whl\n",
            "Collecting eth-rlp<2,>=0.1.2\n",
            "  Downloading https://files.pythonhosted.org/packages/5b/c2/4c0f8846c465213acbf61bb36eacd0a31d5b13ee525480308ef0a224dc01/eth_rlp-0.2.1-py3-none-any.whl\n",
            "Collecting cytoolz<1.0.0,>=0.10.1; implementation_name == \"cpython\"\n",
            "\u001b[?25l  Downloading https://files.pythonhosted.org/packages/58/67/1c60da8ba831bfefedb64c78b9f6820bdf58972797c95644ee3191daf27a/cytoolz-0.11.0.tar.gz (477kB)\n",
            "\u001b[K     |████████████████████████████████| 481kB 45.6MB/s \n",
            "\u001b[?25hCollecting multiaddr>=0.0.7\n",
            "  Downloading https://files.pythonhosted.org/packages/51/59/df732566d951c33f00a4022fc5bf9c5d1661b1c2cdaf56e75a1a5fa8f829/multiaddr-0.0.9-py2.py3-none-any.whl\n",
            "Requirement already satisfied: certifi>=2017.4.17 in /usr/local/lib/python3.6/dist-packages (from requests<3.0.0,>=2.16.0->web3) (2020.12.5)\n",
            "Requirement already satisfied: chardet<4,>=3.0.2 in /usr/local/lib/python3.6/dist-packages (from requests<3.0.0,>=2.16.0->web3) (3.0.4)\n",
            "Requirement already satisfied: idna<3,>=2.5 in /usr/local/lib/python3.6/dist-packages (from requests<3.0.0,>=2.16.0->web3) (2.10)\n",
            "Requirement already satisfied: urllib3!=1.25.0,!=1.25.1,<1.26,>=1.21.1 in /usr/local/lib/python3.6/dist-packages (from requests<3.0.0,>=2.16.0->web3) (1.24.3)\n",
            "Collecting pycryptodome<4,>=3.6.6; extra == \"pycryptodome\"\n",
            "\u001b[?25l  Downloading https://files.pythonhosted.org/packages/2b/6f/7e38d7c97fbbc3987539c804282c33f56b6b07381bf2390deead696440c5/pycryptodome-3.9.9-cp36-cp36m-manylinux1_x86_64.whl (13.7MB)\n",
            "\u001b[K     |████████████████████████████████| 13.7MB 273kB/s \n",
            "\u001b[?25hRequirement already satisfied: zipp>=0.5 in /usr/local/lib/python3.6/dist-packages (from importlib-metadata; python_version < \"3.8\"->jsonschema<4.0.0,>=3.2.0->web3) (3.4.0)\n",
            "Requirement already satisfied: toolz>=0.8.0 in /usr/local/lib/python3.6/dist-packages (from cytoolz<1.0.0,>=0.10.1; implementation_name == \"cpython\"->eth-utils<2.0.0,>=1.9.5->web3) (0.11.1)\n",
            "Collecting netaddr\n",
            "\u001b[?25l  Downloading https://files.pythonhosted.org/packages/ff/cd/9cdfea8fc45c56680b798db6a55fa60a22e2d3d3ccf54fc729d083b50ce4/netaddr-0.8.0-py2.py3-none-any.whl (1.9MB)\n",
            "\u001b[K     |████████████████████████████████| 1.9MB 38.5MB/s \n",
            "\u001b[33mWARNING: Retrying (Retry(total=4, connect=None, read=None, redirect=None, status=None)) after connection broken by 'ProtocolError('Connection aborted.', ConnectionResetError(104, 'Connection reset by peer'))': /simple/varint/\u001b[0m\n",
            "\u001b[?25hCollecting varint\n",
            "\u001b[33m  WARNING: Retrying (Retry(total=4, connect=None, read=None, redirect=None, status=None)) after connection broken by 'ProtocolError('Connection aborted.', ConnectionResetError(104, 'Connection reset by peer'))': /packages/a8/fe/1ea0ba0896dfa47186692655b86db3214c4b7c9e0e76c7b1dc257d101ab1/varint-1.0.2.tar.gz\u001b[0m\n",
            "  Downloading https://files.pythonhosted.org/packages/a8/fe/1ea0ba0896dfa47186692655b86db3214c4b7c9e0e76c7b1dc257d101ab1/varint-1.0.2.tar.gz\n",
            "Collecting base58\n",
            "  Downloading https://files.pythonhosted.org/packages/b8/a1/d9f565e9910c09fd325dc638765e8843a19fa696275c16cc08cf3b0a3c25/base58-2.1.0-py3-none-any.whl\n",
            "Requirement already satisfied: importlib-resources; python_version < \"3.7\" in /usr/local/lib/python3.6/dist-packages (from netaddr->multiaddr>=0.0.7->ipfshttpclient==0.7.0a1->web3) (5.1.0)\n",
            "Building wheels for collected packages: lru-dict, parsimonious, bitarray, cytoolz, varint\n",
            "  Building wheel for lru-dict (setup.py) ... \u001b[?25l\u001b[?25hdone\n",
            "  Created wheel for lru-dict: filename=lru_dict-1.1.7-cp36-cp36m-linux_x86_64.whl size=27458 sha256=7f9ef2b7aebab54a3a4202b0e676f08ef664a6ddf617f6989d32dc2605785b49\n",
            "  Stored in directory: /root/.cache/pip/wheels/ae/51/23/0a416781dead9225c7d66d25b9f223c7e32304e99a0b01d566\n",
            "  Building wheel for parsimonious (setup.py) ... \u001b[?25l\u001b[?25hdone\n",
            "  Created wheel for parsimonious: filename=parsimonious-0.8.1-cp36-none-any.whl size=42710 sha256=3822fcd8e2ba38757cb101ea68fe8016ec31781cb35acef7b03fbd79afaef245\n",
            "  Stored in directory: /root/.cache/pip/wheels/b7/8d/e7/a0e74217da5caeb3c1c7689639b6d28ddbf9985b840bc96a9a\n",
            "  Building wheel for bitarray (setup.py) ... \u001b[?25l\u001b[?25hdone\n",
            "  Created wheel for bitarray: filename=bitarray-1.2.2-cp36-cp36m-linux_x86_64.whl size=105106 sha256=7c06a7cb70ccaf5191b1e1a6be8f24a69972f0f8275f44747dc93ea12c789931\n",
            "  Stored in directory: /root/.cache/pip/wheels/57/7b/51/0f1c269e1532ef20db3a048b53744690a63e972876d438b496\n",
            "  Building wheel for cytoolz (setup.py) ... \u001b[?25l\u001b[?25hdone\n",
            "  Created wheel for cytoolz: filename=cytoolz-0.11.0-cp36-cp36m-linux_x86_64.whl size=1225573 sha256=fb37fabe60528d8ec2746446a376dbbafc8b93367c3fd10f4a5abd939d6225ab\n",
            "  Stored in directory: /root/.cache/pip/wheels/a1/32/3c/9c9926b510647cacdde744b2c7acdf1ccd5896fbb7f8d5df0c\n",
            "  Building wheel for varint (setup.py) ... \u001b[?25l\u001b[?25hdone\n",
            "  Created wheel for varint: filename=varint-1.0.2-cp36-none-any.whl size=1980 sha256=7a4fda77355486fad8fb588f38aff8a906f45602239d681b4cd71f2eedc553bb\n",
            "  Stored in directory: /root/.cache/pip/wheels/87/62/fe/15e506bdde650fdd4e63d3eb91a1c3582ff1ee450e88e89d9e\n",
            "Successfully built lru-dict parsimonious bitarray cytoolz varint\n",
            "\u001b[31mERROR: nbclient 0.5.1 has requirement jupyter-client>=6.1.5, but you'll have jupyter-client 5.3.5 which is incompatible.\u001b[0m\n",
            "Installing collected packages: jsonschema, eth-typing, cytoolz, pycryptodome, eth-hash, eth-utils, parsimonious, eth-abi, websockets, hexbytes, bitarray, rlp, eth-keys, eth-keyfile, eth-rlp, eth-account, netaddr, varint, base58, multiaddr, ipfshttpclient, lru-dict, web3\n",
            "  Found existing installation: jsonschema 2.6.0\n",
            "    Uninstalling jsonschema-2.6.0:\n",
            "      Successfully uninstalled jsonschema-2.6.0\n",
            "Successfully installed base58-2.1.0 bitarray-1.2.2 cytoolz-0.11.0 eth-abi-2.1.1 eth-account-0.5.4 eth-hash-0.3.1 eth-keyfile-0.5.1 eth-keys-0.3.3 eth-rlp-0.2.1 eth-typing-2.2.2 eth-utils-1.10.0 hexbytes-0.2.1 ipfshttpclient-0.7.0a1 jsonschema-3.2.0 lru-dict-1.1.7 multiaddr-0.0.9 netaddr-0.8.0 parsimonious-0.8.1 pycryptodome-3.9.9 rlp-2.0.1 varint-1.0.2 web3-5.16.0 websockets-8.1\n"
          ],
          "name": "stdout"
        }
      ]
    },
    {
      "cell_type": "code",
      "metadata": {
        "colab": {
          "base_uri": "https://localhost:8080/"
        },
        "id": "Xjrdfli7qXD3",
        "outputId": "861e0d2c-6aa2-4029-fb16-e72247e1975b"
      },
      "source": [
        "!pip install win32gui"
      ],
      "execution_count": 32,
      "outputs": [
        {
          "output_type": "stream",
          "text": [
            "Collecting win32gui\n",
            "  Using cached https://files.pythonhosted.org/packages/b8/75/7bed82934e51903f9d48b26b3996161bb2dce1731607b4bb7fd26003ed3e/win32gui-221.5.tar.gz\n",
            "  Installing build dependencies ... \u001b[?25l\u001b[?25hdone\n",
            "  Getting requirements to build wheel ... \u001b[?25l\u001b[?25herror\n",
            "\u001b[31mERROR: Command errored out with exit status 1: /usr/bin/python3 /usr/local/lib/python3.6/dist-packages/pip/_vendor/pep517/_in_process.py get_requires_for_build_wheel /tmp/tmpfapxmhhp Check the logs for full command output.\u001b[0m\n"
          ],
          "name": "stdout"
        }
      ]
    },
    {
      "cell_type": "code",
      "metadata": {
        "colab": {
          "base_uri": "https://localhost:8080/",
          "height": 313
        },
        "id": "MPqZKPk7tbFD",
        "outputId": "6e3aec07-796e-44bc-a60b-530c46e2bab6"
      },
      "source": [
        "from win32 import win32gui\r\n",
        "import win32ui, win32con, win32api"
      ],
      "execution_count": 34,
      "outputs": [
        {
          "output_type": "error",
          "ename": "ModuleNotFoundError",
          "evalue": "ignored",
          "traceback": [
            "\u001b[0;31m---------------------------------------------------------------------------\u001b[0m",
            "\u001b[0;31mModuleNotFoundError\u001b[0m                       Traceback (most recent call last)",
            "\u001b[0;32m<ipython-input-34-82caf11adf9e>\u001b[0m in \u001b[0;36m<module>\u001b[0;34m()\u001b[0m\n\u001b[0;32m----> 1\u001b[0;31m \u001b[0;32mfrom\u001b[0m \u001b[0mwin32\u001b[0m \u001b[0;32mimport\u001b[0m \u001b[0mwin32gui\u001b[0m\u001b[0;34m\u001b[0m\u001b[0;34m\u001b[0m\u001b[0m\n\u001b[0m\u001b[1;32m      2\u001b[0m \u001b[0;32mimport\u001b[0m \u001b[0mwin32ui\u001b[0m\u001b[0;34m,\u001b[0m \u001b[0mwin32con\u001b[0m\u001b[0;34m,\u001b[0m \u001b[0mwin32api\u001b[0m\u001b[0;34m\u001b[0m\u001b[0;34m\u001b[0m\u001b[0m\n",
            "\u001b[0;31mModuleNotFoundError\u001b[0m: No module named 'win32'",
            "",
            "\u001b[0;31m---------------------------------------------------------------------------\u001b[0;32m\nNOTE: If your import is failing due to a missing package, you can\nmanually install dependencies using either !pip or !apt.\n\nTo view examples of installing some common dependencies, click the\n\"Open Examples\" button below.\n\u001b[0;31m---------------------------------------------------------------------------\u001b[0m\n"
          ]
        }
      ]
    },
    {
      "cell_type": "code",
      "metadata": {
        "colab": {
          "base_uri": "https://localhost:8080/",
          "height": 363
        },
        "id": "RxWLT0xYqRIl",
        "outputId": "bd238f40-a9a0-4658-bfd1-01395afa4438"
      },
      "source": [
        "from keras.models import load_model\r\n",
        "from tkinter import *\r\n",
        "import tkinter as tk\r\n",
        "import win32gui\r\n",
        "from PIL import ImageGrab, Image\r\n",
        "import numpy as np"
      ],
      "execution_count": 33,
      "outputs": [
        {
          "output_type": "error",
          "ename": "ModuleNotFoundError",
          "evalue": "ignored",
          "traceback": [
            "\u001b[0;31m---------------------------------------------------------------------------\u001b[0m",
            "\u001b[0;31mModuleNotFoundError\u001b[0m                       Traceback (most recent call last)",
            "\u001b[0;32m<ipython-input-33-9a40c16cc19b>\u001b[0m in \u001b[0;36m<module>\u001b[0;34m()\u001b[0m\n\u001b[1;32m      2\u001b[0m \u001b[0;32mfrom\u001b[0m \u001b[0mtkinter\u001b[0m \u001b[0;32mimport\u001b[0m \u001b[0;34m*\u001b[0m\u001b[0;34m\u001b[0m\u001b[0;34m\u001b[0m\u001b[0m\n\u001b[1;32m      3\u001b[0m \u001b[0;32mimport\u001b[0m \u001b[0mtkinter\u001b[0m \u001b[0;32mas\u001b[0m \u001b[0mtk\u001b[0m\u001b[0;34m\u001b[0m\u001b[0;34m\u001b[0m\u001b[0m\n\u001b[0;32m----> 4\u001b[0;31m \u001b[0;32mimport\u001b[0m \u001b[0mwin32gui\u001b[0m\u001b[0;34m\u001b[0m\u001b[0;34m\u001b[0m\u001b[0m\n\u001b[0m\u001b[1;32m      5\u001b[0m \u001b[0;32mfrom\u001b[0m \u001b[0mPIL\u001b[0m \u001b[0;32mimport\u001b[0m \u001b[0mImageGrab\u001b[0m\u001b[0;34m,\u001b[0m \u001b[0mImage\u001b[0m\u001b[0;34m\u001b[0m\u001b[0;34m\u001b[0m\u001b[0m\n\u001b[1;32m      6\u001b[0m \u001b[0;32mimport\u001b[0m \u001b[0mnumpy\u001b[0m \u001b[0;32mas\u001b[0m \u001b[0mnp\u001b[0m\u001b[0;34m\u001b[0m\u001b[0;34m\u001b[0m\u001b[0m\n",
            "\u001b[0;31mModuleNotFoundError\u001b[0m: No module named 'win32gui'",
            "",
            "\u001b[0;31m---------------------------------------------------------------------------\u001b[0;32m\nNOTE: If your import is failing due to a missing package, you can\nmanually install dependencies using either !pip or !apt.\n\nTo view examples of installing some common dependencies, click the\n\"Open Examples\" button below.\n\u001b[0;31m---------------------------------------------------------------------------\u001b[0m\n"
          ]
        }
      ]
    },
    {
      "cell_type": "code",
      "metadata": {
        "id": "p9R3SNLzNHvk"
      },
      "source": [
        "\r\n",
        "\r\n",
        "model = load_model('mnist.h5')\r\n",
        "\r\n",
        "def predict_digit(img):\r\n",
        "    #resize image to 28x28 pixels\r\n",
        "    img = img.resize((28,28))\r\n",
        "    #convert rgb to grayscale\r\n",
        "    img = img.convert('L')\r\n",
        "    img = np.array(img)\r\n",
        "    #reshaping to support our model input and normalizing\r\n",
        "    img = img.reshape(1,28,28,1)\r\n",
        "    img = img/255.0\r\n",
        "    #predicting the class\r\n",
        "    res = model.predict([img])[0]\r\n",
        "    return np.argmax(res), max(res)\r\n",
        "\r\n",
        "class App(tk.Tk):\r\n",
        "    def __init__(self):\r\n",
        "        tk.Tk.__init__(self)\r\n",
        "\r\n",
        "        self.x = self.y = 0\r\n",
        "\r\n",
        "        # Creating elements\r\n",
        "        self.canvas = tk.Canvas(self, width=300, height=300, bg = \"white\", cursor=\"cross\")\r\n",
        "        self.label = tk.Label(self, text=\"Thinking..\", font=(\"Helvetica\", 48))\r\n",
        "        self.classify_btn = tk.Button(self, text = \"Recognise\", command =         self.classify_handwriting) \r\n",
        "        self.button_clear = tk.Button(self, text = \"Clear\", command = self.clear_all)\r\n",
        "\r\n",
        "        # Grid structure\r\n",
        "        self.canvas.grid(row=0, column=0, pady=2, sticky=W, )\r\n",
        "        self.label.grid(row=0, column=1,pady=2, padx=2)\r\n",
        "        self.classify_btn.grid(row=1, column=1, pady=2, padx=2)\r\n",
        "        self.button_clear.grid(row=1, column=0, pady=2)\r\n",
        "\r\n",
        "        #self.canvas.bind(\"<Motion>\", self.start_pos)\r\n",
        "        self.canvas.bind(\"<B1-Motion>\", self.draw_lines)\r\n",
        "\r\n",
        "    def clear_all(self):\r\n",
        "        self.canvas.delete(\"all\")\r\n",
        "\r\n",
        "    def classify_handwriting(self):\r\n",
        "        HWND = self.canvas.winfo_id() # get the handle of the canvas\r\n",
        "        rect = win32gui.GetWindowRect(HWND) # get the coordinate of the canvas\r\n",
        "        im = ImageGrab.grab(rect)\r\n",
        "\r\n",
        "        digit, acc = predict_digit(im)\r\n",
        "        self.label.configure(text= str(digit)+', '+ str(int(acc*100))+'%')\r\n",
        "\r\n",
        "    def draw_lines(self, event):\r\n",
        "        self.x = event.x\r\n",
        "        self.y = event.y\r\n",
        "        r=8\r\n",
        "        self.canvas.create_oval(self.x-r, self.y-r, self.x + r, self.y + r, fill='black')\r\n",
        "\r\n",
        "app = App()\r\n",
        "mainloop("
      ],
      "execution_count": null,
      "outputs": []
    },
    {
      "cell_type": "code",
      "metadata": {
        "id": "jwMylAAONHx6"
      },
      "source": [
        ""
      ],
      "execution_count": null,
      "outputs": []
    },
    {
      "cell_type": "code",
      "metadata": {
        "id": "4np4qSc6NH0h"
      },
      "source": [
        ""
      ],
      "execution_count": null,
      "outputs": []
    },
    {
      "cell_type": "code",
      "metadata": {
        "id": "5-GjXLtnNH34"
      },
      "source": [
        ""
      ],
      "execution_count": null,
      "outputs": []
    }
  ]
}